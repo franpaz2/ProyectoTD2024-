{
 "cells": [
  {
   "cell_type": "markdown",
   "id": "343f3500",
   "metadata": {},
   "source": [
    "<font color=\"#6E6E6E\"><h2 align=\"left\">Importación de ficheros pdf y almacenamiento con formato texto</h2></font> \n",
    "\n",
    "\n",
    "#### Marcelino Martínez Sober"
   ]
  },
  {
   "cell_type": "markdown",
   "id": "95f0a171",
   "metadata": {},
   "source": [
    "\n",
    "# Carga de actas\n",
    "\n",
    "## Introducción\n",
    "\n"
   ]
  },
  {
   "cell_type": "code",
   "execution_count": 1,
   "id": "833563ac",
   "metadata": {},
   "outputs": [
    {
     "name": "stdout",
     "output_type": "stream",
     "text": [
      "Requirement already satisfied: camelot-py[cv] in c:\\users\\erict\\anaconda3\\lib\\site-packages (0.9.0)\n",
      "Requirement already satisfied: tabula-py in c:\\users\\erict\\anaconda3\\lib\\site-packages (2.9.0)\n",
      "Requirement already satisfied: chardet>=3.0.4 in c:\\users\\erict\\anaconda3\\lib\\site-packages (from camelot-py[cv]) (4.0.0)\n",
      "Requirement already satisfied: click>=6.7 in c:\\users\\erict\\anaconda3\\lib\\site-packages (from camelot-py[cv]) (8.0.4)\n",
      "Requirement already satisfied: numpy>=1.13.3 in c:\\users\\erict\\anaconda3\\lib\\site-packages (from camelot-py[cv]) (1.24.3)\n",
      "Requirement already satisfied: openpyxl>=2.5.8 in c:\\users\\erict\\anaconda3\\lib\\site-packages (from camelot-py[cv]) (3.0.10)\n",
      "Requirement already satisfied: pandas>=0.23.4 in c:\\users\\erict\\anaconda3\\lib\\site-packages (from camelot-py[cv]) (2.0.3)\n",
      "Requirement already satisfied: pdfminer.six>=20200726 in c:\\users\\erict\\anaconda3\\lib\\site-packages (from camelot-py[cv]) (20231228)\n",
      "Requirement already satisfied: PyPDF2>=1.26.0 in c:\\users\\erict\\anaconda3\\lib\\site-packages (from camelot-py[cv]) (3.0.1)\n",
      "Requirement already satisfied: opencv-python>=3.4.2.17 in c:\\users\\erict\\anaconda3\\lib\\site-packages (from camelot-py[cv]) (4.9.0.80)\n",
      "Requirement already satisfied: distro in c:\\users\\erict\\anaconda3\\lib\\site-packages (from tabula-py) (1.9.0)\n",
      "Requirement already satisfied: colorama in c:\\users\\erict\\anaconda3\\lib\\site-packages (from click>=6.7->camelot-py[cv]) (0.4.6)\n",
      "Requirement already satisfied: et_xmlfile in c:\\users\\erict\\anaconda3\\lib\\site-packages (from openpyxl>=2.5.8->camelot-py[cv]) (1.1.0)\n",
      "Requirement already satisfied: python-dateutil>=2.8.2 in c:\\users\\erict\\anaconda3\\lib\\site-packages (from pandas>=0.23.4->camelot-py[cv]) (2.8.2)\n",
      "Requirement already satisfied: pytz>=2020.1 in c:\\users\\erict\\anaconda3\\lib\\site-packages (from pandas>=0.23.4->camelot-py[cv]) (2023.3.post1)\n",
      "Requirement already satisfied: tzdata>=2022.1 in c:\\users\\erict\\anaconda3\\lib\\site-packages (from pandas>=0.23.4->camelot-py[cv]) (2023.3)\n",
      "Requirement already satisfied: charset-normalizer>=2.0.0 in c:\\users\\erict\\anaconda3\\lib\\site-packages (from pdfminer.six>=20200726->camelot-py[cv]) (2.0.4)\n",
      "Requirement already satisfied: cryptography>=36.0.0 in c:\\users\\erict\\anaconda3\\lib\\site-packages (from pdfminer.six>=20200726->camelot-py[cv]) (41.0.3)\n",
      "Requirement already satisfied: cffi>=1.12 in c:\\users\\erict\\anaconda3\\lib\\site-packages (from cryptography>=36.0.0->pdfminer.six>=20200726->camelot-py[cv]) (1.15.1)\n",
      "Requirement already satisfied: six>=1.5 in c:\\users\\erict\\anaconda3\\lib\\site-packages (from python-dateutil>=2.8.2->pandas>=0.23.4->camelot-py[cv]) (1.16.0)\n",
      "Requirement already satisfied: pycparser in c:\\users\\erict\\anaconda3\\lib\\site-packages (from cffi>=1.12->cryptography>=36.0.0->pdfminer.six>=20200726->camelot-py[cv]) (2.21)\n",
      "Requirement already satisfied: PyPDF2 in c:\\users\\erict\\anaconda3\\lib\\site-packages (3.0.1)\n"
     ]
    }
   ],
   "source": [
    "import pandas as pd\n",
    "!pip3 install camelot-py[cv] tabula-py\n",
    "# Necesitamos tener instalado ghostscript\n",
    "# Abrimos terminal, elegimos environment y seguimos instrucciones https://camelot-py.readthedocs.io/en/master/user/install-deps.html\n",
    "import camelot\n",
    "# importing required modules\n",
    "!pip install PyPDF2\n",
    "import PyPDF2\n",
    "import os"
   ]
  },
  {
   "cell_type": "markdown",
   "id": "16b05a66",
   "metadata": {},
   "source": [
    "Leemos todos los ficheros con extensión pdf dentro de la carpeta `data` y los almacenamos con el mismo nombre y ruta con la extensión `txt` \n",
    "\n",
    "El procesado y la extracción de información de los ficheros de texto se realizará en R"
   ]
  },
  {
   "cell_type": "code",
   "execution_count": 2,
   "id": "93912afc",
   "metadata": {},
   "outputs": [
    {
     "name": "stdout",
     "output_type": "stream",
     "text": [
      "data\\20231218 Mercadona 60,47 Ôé¼.pdf\n",
      "data\\20231218 Mercadona 60,47 Ôé¼.txt\n",
      "1066\n",
      "data\\20231224 Mercadona 37,49 Ôé¼.pdf\n",
      "data\\20231224 Mercadona 37,49 Ôé¼.txt\n",
      "854\n",
      "data\\20231226 Mercadona 25,83 Ôé¼.pdf\n",
      "data\\20231226 Mercadona 25,83 Ôé¼.txt\n",
      "759\n",
      "data\\20231230 Mercadona 66,30 Ôé¼.pdf\n",
      "data\\20231230 Mercadona 66,30 Ôé¼.txt\n",
      "948\n",
      "data\\20240102 Mercadona 70,04 Ôé¼.pdf\n",
      "data\\20240102 Mercadona 70,04 Ôé¼.txt\n",
      "1170\n",
      "data\\20240108 Mercadona 83,73 Ôé¼.pdf\n",
      "data\\20240108 Mercadona 83,73 Ôé¼.txt\n",
      "1186\n",
      "data\\20240109 Mercadona 7,35 Ôé¼.pdf\n",
      "data\\20240109 Mercadona 7,35 Ôé¼.txt\n",
      "571\n",
      "data\\20240111 Mercadona 41,20 Ôé¼.pdf\n",
      "data\\20240111 Mercadona 41,20 Ôé¼.txt\n",
      "704\n",
      "data\\20240115 Mercadona 117,41 Ôé¼.pdf\n",
      "data\\20240115 Mercadona 117,41 Ôé¼.txt\n",
      "1745\n",
      "data\\20240123 Mercadona 44,13 Ôé¼.pdf\n",
      "data\\20240123 Mercadona 44,13 Ôé¼.txt\n",
      "1021\n",
      "data\\20240127 Mercadona 108,33 Ôé¼.pdf\n",
      "data\\20240127 Mercadona 108,33 Ôé¼.txt\n",
      "1617\n",
      "data\\20240131 Mercadona 16,82 Ôé¼.pdf\n",
      "data\\20240131 Mercadona 16,82 Ôé¼.txt\n",
      "617\n"
     ]
    }
   ],
   "source": [
    "# El punto de partida de búsqueda es la carpeta data\n",
    "\n",
    "for dirname, _, filenames in os.walk('data'): # Obtenemos todos los ficheros desde la ruta indicada incluidos todos los subdirectorios internos\n",
    "    for filename in filenames:\n",
    "        #print('Ruta:', dirname, '  Fichero:', filename)\n",
    "        if filename.endswith('pdf'):\n",
    "            print(os.path.join(dirname, filename))\n",
    "            fichero = os.path.join(dirname, filename)\n",
    "            pdfFileObj = open(fichero,'rb')#The pdfReader variable is a readable object that will be parsed.pd\n",
    "            pdfReader = PyPDF2.PdfReader(pdfFileObj)#Discerning the number of pages will allow us to parse through all the pages.\n",
    "            num_pages = len(pdfReader.pages)\n",
    "            #print('Num Páginas:', num_pages )\n",
    "            count = 0\n",
    "            text = \"\" #The while loop will read each page.\n",
    "            \n",
    "            while count < num_pages:\n",
    "                pageObj = pdfReader.pages[count]\n",
    "                count +=1\n",
    "                text += pageObj.extract_text()#This if statement exists to check if the above library returned words. It's done because PyPDF2 cannot read scanned files.\n",
    "            #display(text.split('\\n'))\n",
    "            # Guardo en fichero de texto\n",
    "            fileText = fichero.replace('pdf','txt')\n",
    "            print(fileText)\n",
    "            with open(fileText,'wt') as f:\n",
    "                N = f.write(text)\n",
    "                print(N) # OJO hay caracteres no imprimibles como un salto de línea.\n"
   ]
  },
  {
   "cell_type": "code",
   "execution_count": null,
   "id": "73f87d17",
   "metadata": {},
   "outputs": [],
   "source": []
  }
 ],
 "metadata": {
  "jupytext": {
   "cell_metadata_filter": "-all",
   "encoding": "# -*- coding: utf-8 -*-",
   "formats": "md:myst",
   "main_language": "python"
  },
  "kernelspec": {
   "display_name": "Python 3 (ipykernel)",
   "language": "python",
   "name": "python3"
  },
  "language_info": {
   "codemirror_mode": {
    "name": "ipython",
    "version": 3
   },
   "file_extension": ".py",
   "mimetype": "text/x-python",
   "name": "python",
   "nbconvert_exporter": "python",
   "pygments_lexer": "ipython3",
   "version": "3.11.5"
  },
  "toc-showtags": true,
  "vscode": {
   "interpreter": {
    "hash": "ebb8a04317dc67ff1ba6e1e32c50870fed8e0ad2e5778d091acaf18676f4d800"
   }
  }
 },
 "nbformat": 4,
 "nbformat_minor": 5
}
